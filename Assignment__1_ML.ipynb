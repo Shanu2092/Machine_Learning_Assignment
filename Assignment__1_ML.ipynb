{
  "nbformat": 4,
  "nbformat_minor": 0,
  "metadata": {
    "colab": {
      "name": "Assignment _1_ML.ipynb",
      "provenance": []
    },
    "kernelspec": {
      "name": "python3",
      "display_name": "Python 3"
    },
    "language_info": {
      "name": "python"
    }
  },
  "cells": [
    {
      "cell_type": "markdown",
      "source": [
        "#1. What does one mean by the term \"machine learning\"?\n",
        "\n",
        " Machine Learning is the science (and art) of programming computers so they can\n",
        "learn from data"
      ],
      "metadata": {
        "id": "c-dibIzxoyxH"
      }
    },
    {
      "cell_type": "markdown",
      "source": [
        "#2.Can you think of 4 distinct types of issues where it shines?\n",
        "1.  Problems for which existing solutions require a lot of hand-tuning or long lists of rules: one Machine Learning algorithm can often simplify code and perform better\n",
        "2. Complex problems for which there is no good solution at all using a traditional\n",
        "approach: the best Machine Learning techniques can find a solution.\n",
        "3. Fluctuating environments: a Machine Learning system can adapt to new data.\n",
        "4. Getting insights about complex problems and large amounts of data."
      ],
      "metadata": {
        "id": "XrdxzODJrkot"
      }
    },
    {
      "cell_type": "markdown",
      "source": [
        "#3.What is a labeled training set, and how does it work?\n",
        "Labeled data is a designation for pieces of data that have been tagged with one or more labels identifying certain properties or characteristics, or classifications or contained objects.Labels make that data specifically useful in certain types of machine learning known as supervised machine learning setups.\n"
      ],
      "metadata": {
        "id": "DNTjpCRRrzFE"
      }
    },
    {
      "cell_type": "markdown",
      "source": [
        "#4.What are the two most important tasks that are supervised?\n",
        "1. Spam filter\n",
        "2. Regression Tasks such as Housing Price Prediction or a target value problem"
      ],
      "metadata": {
        "id": "_DSVuPoYt1Cs"
      }
    },
    {
      "cell_type": "markdown",
      "source": [
        "#5.Can you think of four examples of unsupervised tasks?\n",
        "1. Clustering  \n",
        "2. Anomaly detection and novelty detection \n",
        "3. Visualization and dimensionality reduction \n",
        "4. Association rule learning\n"
      ],
      "metadata": {
        "id": "9cniLM7o2LOr"
      }
    },
    {
      "cell_type": "markdown",
      "source": [
        "#6. State the machine learning model that would be best to make a robot walk through various unfamiliar terrains?\n",
        "Reinforcemnet Learning\n"
      ],
      "metadata": {
        "id": "glRACanl3rdF"
      }
    },
    {
      "cell_type": "markdown",
      "source": [
        "#7.Which algorithm will you use to divide your customers into different groups?\n",
        "Clustering"
      ],
      "metadata": {
        "id": "bmxZQHp03xml"
      }
    },
    {
      "cell_type": "markdown",
      "source": [
        "#8.Will you consider the problem of spam detection to be a supervised or unsupervised learning problem?\n",
        "Supervised Learning"
      ],
      "metadata": {
        "id": "lYdGkZ-a32TZ"
      }
    },
    {
      "cell_type": "markdown",
      "source": [
        "#9.What is the concept of an online learning system?\n",
        "In online learning, you train the system incrementally by feeding it data instances\n",
        "sequentially, either individually or by small groups called mini-batches. Each learning\n",
        "step is fast and cheap, so the system can learn about new data on the fly, as it arrives"
      ],
      "metadata": {
        "id": "f16IZFK54HUh"
      }
    },
    {
      "cell_type": "markdown",
      "source": [
        "#10.What is out-of-core learning, and how does it differ from core learning?\n",
        "Training systems on huge datasets that\n",
        "cannot fit in one machine’s main memory is called out-of-core learning.Out-of-core learning is usually done offline (i.e., not on the live\n",
        "system)"
      ],
      "metadata": {
        "id": "xq-qt6zt6s8e"
      }
    },
    {
      "cell_type": "markdown",
      "source": [
        "#11.What kind of learning algorithm makes predictions using a similarity measure?\n",
        "Instance-based learning algorithms use a measure of similarity to generalize to new cases. In an instance-based learning system, the algorithm learns the examples by heart, then uses the similarity measure to generalize."
      ],
      "metadata": {
        "id": "Bzfgjd5ACeNz"
      }
    },
    {
      "cell_type": "markdown",
      "source": [
        "#12.What's the difference between a model parameter and a hyperparameter in a learning algorithm?\n",
        "A hyperparameter is a parameter of the learning algorithm, not the model. A hyperparameter is a learnable parameter which means it changes many times during the training ,a model paramater is initiated by the user itself."
      ],
      "metadata": {
        "id": "_pcU4QfqCj2i"
      }
    },
    {
      "cell_type": "markdown",
      "source": [
        "#13.What are the criteria that model-based learning algorithms look for? What is the most popular method they use to achieve success? What method do they use to make predictions?\n",
        "\n",
        "The goal for a model-based algorithm is to be able to generalize to new examples. To do this, model based algorithms search for optimal values for the model's parameters. Cost or loss functions are used to make sure that the models are working fine ."
      ],
      "metadata": {
        "id": "m3XmxLEEJgYn"
      }
    },
    {
      "cell_type": "markdown",
      "source": [
        "#14.Can you name four of the most important Machine Learning challenges?\n",
        "1. Lack of data or non-representative data\n",
        "2. Having outliers,missing values,or noisy data\n",
        "3. Irrelevent data - features having no relations with the output\n",
        "4. Overfitting or Underfitting\n"
      ],
      "metadata": {
        "id": "m9ht1Fn7KEm0"
      }
    },
    {
      "cell_type": "markdown",
      "source": [
        "#15.What happens if the model performs well on the training data but fails to generalize the results to new situations? Can you think of three different options\n",
        "This is the issue of overfittng. It can be dealt with in various ways\n",
        "1. Try reducing the number of features\n",
        "2. Get more training data\n",
        "3. Reduce noise or outliers\n",
        "4. Make use of methods like regularization,cross-validation,Dropout etc"
      ],
      "metadata": {
        "id": "frL_4oP2KtcZ"
      }
    },
    {
      "cell_type": "markdown",
      "source": [
        "#16.What exactly is a test set, and why would you need one?\n",
        "Test set is used to 'test' the model before actually deploying it,it a subset of original data which is kept for sole puspose of checking the generalizing ability of the model"
      ],
      "metadata": {
        "id": "r8S7vroWMHxQ"
      }
    },
    {
      "cell_type": "markdown",
      "source": [
        "#17.What is a validation set's purpose?\n",
        "A validation set is used since it is not updated in every iteration unlike a test set, Its sole purpose is to check the efficiency of the model"
      ],
      "metadata": {
        "id": "VnZ4PbLKMnCu"
      }
    },
    {
      "cell_type": "markdown",
      "source": [
        "#18.What precisely is the train-dev kit, when will you need it, how do you put it to use?\n",
        "After the model is trained (on the training set, not\n",
        "on the train-dev set), you can evaluate it on the train-dev set: if it performs well, then\n",
        "the model is not overfitting the training set, so if performs poorly on the validation\n",
        "set, the problem must come from the data mismatch. You can try to tackle this problem by preprocessing the web images to make them look more like the pictures that\n",
        "will be taken by the mobile app, and then retraining the model. Conversely, if the\n",
        "model performs poorly on the train-dev set, then the model must have overfit the\n",
        "training set, so you should try to simplify or regularize the model, get more training\n",
        "data and clean up the training data, as discussed earlier."
      ],
      "metadata": {
        "id": "QP56k5beQNR5"
      }
    },
    {
      "cell_type": "markdown",
      "source": [
        "#19.What could go wrong if you use the test set to tune hyperparameters?\n",
        "Cross-validation helps us compare models without wasting too much training data in the validation set.\n",
        "\n"
      ],
      "metadata": {
        "id": "insJZ9PyRJpk"
      }
    }
  ]
}
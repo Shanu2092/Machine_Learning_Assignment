{
 "cells": [
  {
   "cell_type": "markdown",
   "id": "f7a80a97",
   "metadata": {},
   "source": [
    "## 1. What is the definition of a target function? In the sense of a real-life example, express the target function. How is a target function's fitness assessed?\n",
    "\n",
    "        The target function is essentially the formula that an algorithm feeds data to in order to calculate predictions.While playing chess with the opponent, when opponent will play then the machine learning algorithm will decide what be the number of possible legal moves taken in order to get success."
   ]
  },
  {
   "cell_type": "markdown",
   "id": "1b3d0a50",
   "metadata": {},
   "source": [
    "## 2. What are predictive models, and how do they work? What are descriptive types, and how do you use them? Examples of both types of models should be provided. Distinguish between these two forms of models.\n",
    "\n",
    "        Predictive modeleling a statistical technique used to make predictions and forecast likely future outcomes with the help of machine learning and data mining methods,they work by taking account of historical and existing data.\n",
    "        \n",
    "        Descriptive modeling is a mathematical process that describes real-world events and the frelationship between factors responsible for them.\n",
    "        \n",
    "        Descriptive models usually dea with history of the data,describing wht led to the curretn scenario,prescriptive model does exactly the opposite,although it takes previous data,it gives the future aspects and forecasts what next could be.\n",
    "        \n",
    "        \n",
    "        \n",
    "        "
   ]
  },
  {
   "cell_type": "markdown",
   "id": "dfc7bb7f",
   "metadata": {},
   "source": [
    "## 4. \n",
    "### i. In the sense of machine learning models, what is underfitting? What is the most common reason for underfitting?\n",
    "      \n",
    "       When the train set gives more accuracy than test set,it is referred to as underfitting,it occurs when the model is too simple without any complexity.\n",
    "       \n",
    "### ii. What does it mean to overfit? When is it going to happen?\n",
    "\n",
    "        When the test set gives more accuracy than train set,it is referred to as underfitting,it occurs when the model is too complex and generalises with the trend of the data.\n",
    "        \n",
    "### iii. In the sense of model fitting, explain the bias-variance trade-off.\n",
    "\n",
    "        the bias–variance tradeoff is the property of a model that the variance of the parameter estimated across samples can be reduced by increasing the bias in the estimated parameters.\n",
    "\n",
    "        \n"
   ]
  },
  {
   "cell_type": "markdown",
   "id": "76cab5b0",
   "metadata": {},
   "source": [
    "## 5. Is it possible to boost the efficiency of a learning model? If so, please clarify how.\n",
    "\n",
    "        There are multiple ways to increase the efficiency of the data,ome of the most common techniques are :\n",
    "        \n",
    "         i. Add more data\n",
    "        ii. Reduce underfitting and overfitting using regularization\n",
    "       iii. Treat outliers\n",
    "        iv. Try Feature engineering and feature selection"
   ]
  },
  {
   "cell_type": "markdown",
   "id": "89d4acba",
   "metadata": {},
   "source": [
    "## 6. How would you rate an unsupervised learning model's success? What are the most common success indicators for an unsupervised learning model?\n",
    "\n",
    "        Silhouette coefficient.\n",
    "        Calisnki-Harabasz coefficient.\n",
    "        Dunn index.\n",
    "        Xie-Beni score.\n",
    "        Hartigan index.\n",
    "\n",
    "        "
   ]
  },
  {
   "cell_type": "markdown",
   "id": "db2cf01e",
   "metadata": {},
   "source": [
    "## 7. Is it possible to use a classification model for numerical data or a regression model for categorical data with a classification model? Explain your answer.\n",
    "\n",
    "        MNIST models containes numerical data,and it is classification models are uften used to classify hand written digits, so yes,it is possible indeed to use a classification model for numerical data.\n",
    "        \n",
    "        The main reason regression models wont work for classification model is that is the predicted values are continuous, not probabilistic. So we can’t get an exact class to accomplish the classification.\n",
    "        \n",
    "        \n",
    "        "
   ]
  },
  {
   "cell_type": "markdown",
   "id": "2a0866ab",
   "metadata": {},
   "source": [
    "## 8. Describe the predictive modeling method for numerical values. What distinguishes it from categorical predictive modeling?\n",
    "\n",
    "       Predictive modeling is a statistical technique using machine learning and data mining to predict and forecast likely future outcomes with the aid of historical and existing data. It works by analyzing current and historical data and projecting what it learns on a model generated to forecast likely outcomes.\n",
    "\n",
    "        Classification is the process of identifying the category or class label of the new observation to which it belongs.Predication is the process of identifying the missing or unavailable numerical data for a new observation. That is the key difference between classification and prediction "
   ]
  },
  {
   "cell_type": "markdown",
   "id": "fac8d151",
   "metadata": {},
   "source": [
    "## 10. Make quick notes on:\n",
    "\n",
    "### i. The process of holding out : \n",
    "        \n",
    "        The hold out method is used to split the data into two half, one for training and the other part for testing and validation.\n",
    "        \n",
    "### ii. Cross-validation by tenfold\n",
    "        \n",
    "        Tenfold cross validation will use fitting process for ten times,taking 90 percent randomly selected data for training and the rest 10 percent for testing and validation.\n",
    "        \n",
    "### iii. Adjusting the parameters\n",
    "\n",
    "        Adjusting the parameter means adopting the right value for weights and biases,essentially a training process\n"
   ]
  },
  {
   "cell_type": "markdown",
   "id": "8d87a377",
   "metadata": {},
   "source": [
    "## 11. Define the following terms: \n",
    "\n",
    "### 1. Purity vs. Silhouette width :\n",
    "\n",
    "        i. Purity is a measure of the extent to which clusters contain a single class. Its calculation can be thought of as follows: For each cluster, count the number of data points from the most common class in said cluster.\n",
    "        \n",
    "        ii. The silhouette width is also an estimate of the average distance between clusters. Its value is comprised between 1 and -1 with a value of 1 indicating a very good cluster.\n",
    "        \n",
    "### 2. Boosting vs. Bagging :\n",
    "        i. Bagging is a way to decrease the variance in the prediction by generating additional data for training from dataset using combinations with repetitions to produce multi-sets of the original data.\n",
    "        \n",
    "        ii. Boosting is an iterative technique which adjusts the weight of an observation based on the last classification.\n",
    "        \n",
    "### 3. The eager learner vs. the lazy learner :\n",
    "\n",
    "        i. A lazy learner delays abstracting from the data until it is asked to make a prediction.\n",
    "        \n",
    "        ii. while an eager learner abstracts away from the data during training and uses this abstraction to make predictions rather than directly compare queries with instances in the dataset.\n"
   ]
  }
 ],
 "metadata": {
  "kernelspec": {
   "display_name": "Python 3 (ipykernel)",
   "language": "python",
   "name": "python3"
  },
  "language_info": {
   "codemirror_mode": {
    "name": "ipython",
    "version": 3
   },
   "file_extension": ".py",
   "mimetype": "text/x-python",
   "name": "python",
   "nbconvert_exporter": "python",
   "pygments_lexer": "ipython3",
   "version": "3.9.7"
  }
 },
 "nbformat": 4,
 "nbformat_minor": 5
}

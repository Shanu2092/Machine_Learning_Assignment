{
  "nbformat": 4,
  "nbformat_minor": 0,
  "metadata": {
    "colab": {
      "name": "Assignment_5_ML.ipynb",
      "provenance": [],
      "collapsed_sections": []
    },
    "kernelspec": {
      "name": "python3",
      "display_name": "Python 3"
    },
    "language_info": {
      "name": "python"
    }
  },
  "cells": [
    {
      "cell_type": "markdown",
      "source": [
        "#1. What are the key tasks that machine learning entails? What does data pre-processing imply?\n",
        "\n",
        "1. Data gathering\n",
        "2. Data preprocessing\n",
        "3. Exploratory data analysis (EDA)\n",
        "4. Feature engineering\n",
        "5. Training machine learning models  and many more\n",
        "\n",
        "\n",
        "Data Preprocessing is done to prepare the data for its training\n",
        "\n"
      ],
      "metadata": {
        "id": "yVsmRszVeFiV"
      }
    },
    {
      "cell_type": "markdown",
      "source": [
        "#2. Describe quantitative and qualitative data in depth. Make a distinction between the two.\n",
        "\n",
        "##1. Qualitative data : \n",
        "\n",
        "Qualitative data is defined as the data that approximates and characterizes.\n",
        "\n",
        "Qualitative data can be observed and recorded. This data type is non-numerical in nature. This type of data is collected through methods of observations, one-to-one interviews, conducting focus groups, and similar methods. Qualitative data in statistics is also known as categorical data – data that can be arranged categorically based on the attributes and properties of a thing or a phenomenon. Qualitative data is important in determining the particular frequency of traits or characteristics. It allows the statistician or the researchers to form parameters through which larger data sets can be observed. Qualitative data provides the means by which observers can quantify the world around them.\n",
        "\n",
        "for example : good,bad,worse,red,green,yellow - in short,description of an any individual or an object without numerican detailing\n",
        "\n",
        "\n",
        "\n",
        "##2. Quantitaive data : \n",
        "Quantitative data is defined as the value of data in the form of counts or numbers where each data-set has an unique numerical value associated with it. This data is any quantifiable information that can be used for mathematical calculations and statistical analysis, such that real-life decisions can be made based on these mathematical derivations. Quantitative data is used to answer questions such as “How many?”, “How often?”, “How much?”. This data can be verified and can also be conveniently evaluated using mathematical techniques."
      ],
      "metadata": {
        "id": "StrrvV_mf_YG"
      }
    },
    {
      "cell_type": "markdown",
      "source": [
        "#3. Create a basic data collection that includes some sample records. Have at least one attribute from each of the machine learning data types.\n",
        "\n",
        "Most data can be categorized into 4 basic types from a Machine Learning perspective:\n",
        "1. numerical data - Quantifiable data such as 1,2,3,4,5...etc\n",
        "2. categorical data - good,bad,worse.etc, \n",
        "3. time-series data - Tracking daily, hourly, or weekly weather data or any data that changes wrt time, \n",
        "4. text - 'Abhinav', 'iNeuron','laptop', 'etc',etc"
      ],
      "metadata": {
        "id": "ZlcHdWw7ju7I"
      }
    },
    {
      "cell_type": "markdown",
      "source": [
        "#4. What are the various causes of machine learning data issues? What are the ramifications?\n",
        "\n",
        "1. Outliers - Use IQR to remove them\n",
        "2. Missing or Inaccurate Values - Replacing them with the mean or mediann values is a common practice\n",
        "3. Irrelevent values - Delete that rows or columns\n",
        "4. Non responsive trends in data - use better model\n"
      ],
      "metadata": {
        "id": "ygLaf9DelWql"
      }
    },
    {
      "cell_type": "markdown",
      "source": [
        "#5. Demonstrate various approaches to categorical data exploration with appropriate examples.\n",
        "\n",
        "Ordinal Encoder class and one hot encoder class is used to convert categorical values to quantitative values "
      ],
      "metadata": {
        "id": "VSToG8dSnao5"
      }
    },
    {
      "cell_type": "markdown",
      "source": [
        "#6. How would the learning activity be affected if certain variables have missing values? Having said that, what can be done about it?\n",
        "\n",
        "Learning Activity can be severely affected by missing values as they prevent the model from getting proper participaton of that instance,they can either be ignored(depends on the situation),or replaced with the median value\n",
        "\n",
        "\n"
      ],
      "metadata": {
        "id": "8abNEz7K4VPi"
      }
    },
    {
      "cell_type": "markdown",
      "source": [
        "#7. Describe the various methods for dealing with missing data values in depth. \n",
        "1. Listwise Deletion - Delete the entire row\n",
        "2. Educated Guessing - Use common knowlnedge to replace the missing value with some digit\n",
        "3. Average Imputation - Replace the missing value with the average value \n",
        "4. Common-Point Imputation - Replace the missing value with the mst common value."
      ],
      "metadata": {
        "id": "e08tc4G3597O"
      }
    },
    {
      "cell_type": "markdown",
      "source": [
        "#8. What are the various data pre-processing techniques? Explain dimensionality reduction and function selection in a few words.\n",
        "\n",
        "Data Preprocressing Techniques : \n",
        "\n",
        "1. Checking for missing values\n",
        "2. Checking for categorical data\n",
        "3. Standardize the data\n",
        "4. PCA transformation\n",
        "5. Data splitting\n",
        "\n",
        "Dimensionality Reduction : Dimensionality reduction refers to techniques that reduce the number of input variables in a dataset.\n",
        "\n",
        "Function Selection : Selecting the right function for checking th emodel efficiency\n",
        "\n"
      ],
      "metadata": {
        "id": "hMx4iNIDidoA"
      }
    },
    {
      "cell_type": "markdown",
      "source": [
        "#9.\n",
        "#i. What is the IQR? What criteria are used to assess it?\n",
        "\n",
        "#ii. Describe the various components of a box plot in detail? When will the lower whisker surpass the upper whisker in length? How can box plots be used to identify outliers?\n",
        "\n",
        "\n",
        "##Ans\n",
        "\n",
        "i. IQR - It stands for interquartile range. IQR tells us the range \n",
        "where the bulk of the values lie. The interquartile \n",
        "range is calculated by subtracting the first quartile\n",
        "from the third quartile. \n",
        "IQR = Q3 - Q1\n",
        "where : \n",
        "\n",
        "1. Q1 is defined as the middle number between the smallest number and the median of the data set.\n",
        "\n",
        "2. Q2 is the median of the data.\n",
        "\n",
        "\n",
        "3. Q3 is the middle value between the median and the highest value of the data set.\n",
        "\n",
        "ii. Components of box plot : A box plot (also called a whisker plot) is useful to visualize the distribution of data and find outliers. This plot displays the five-number summary: minimum, first quartile, median, third quartile and maximum.\n",
        "\n",
        "Lower whisker is larger than upper whisker when the data is left skewed \n",
        "\n",
        "Boxplots classify minimum and maximum points,anything below minimum and anything above maximum are consodered as outliers,they can be treated then.\n",
        "\n",
        "\n"
      ],
      "metadata": {
        "id": "Q3-lYEgLsRO1"
      }
    },
    {
      "cell_type": "markdown",
      "source": [
        "#10. Make brief notes on any two of the following:\n",
        "\n",
        "##1. Data collected at regular intervals\n",
        "\n",
        "##2. The gap between the quartiles\n",
        "\n",
        "##3. Use a cross-tab\n",
        "\n",
        "\n",
        "#Ans \n",
        "\n",
        "#1. Data collected at regular intervals : \n",
        "\n",
        "1. Data collected at regular intervals can be plotted using time series plot\n",
        "\n",
        "2. time series plot may be misleading if the data is collected at irregular \n",
        "intervals.\n",
        "\n",
        "3.  Collecting data less frequently will not allow you detect monthly patterns. Collecting data more frequently could add unnecessary noise to the data and obscure monthly patterns.\n",
        "\n",
        "4.  Enough data is needed to be sure that any pattern you observe is a long-term pattern and not just a short-term anomaly \n",
        "\n",
        "#3. Use a cross-tab\n",
        "Pandas crosstab() function is used to compute cross-tabulation of two or more factors. It is defined under the Pandas library. By default, it computes a frequency table of all the factors mentioned unless an array or list of values and aggregation functions are passed.\n",
        "\n",
        "\n",
        "\n",
        "\n",
        "\n",
        "\n"
      ],
      "metadata": {
        "id": "DDU1-TxJytnB"
      }
    },
    {
      "cell_type": "markdown",
      "source": [
        "#1. Make a comparison between:\n",
        "\n",
        "1. Data with nominal and ordinal values\n",
        "\n",
        "2. Histogram and box plot\n",
        "\n",
        "3. The average and median\n",
        "\n",
        "\n",
        "\n",
        "##Ans\n",
        "\n",
        "1. Data with nominal and ordinal values - \n",
        "\n",
        "      a. nominal value - The nominal scale is the first level of measurement, and the simplest. It classifies and labels variables qualitatively. In other words, it divides them into named groups without any quantitative meaning. \n",
        "\n",
        "      b. ordinal value - The ordinal level of measurement groups variables into categories, just like the nominal scale, but also conveys the order of the variables\n",
        "\n",
        "\n",
        "2. Histogram and box plot - Histograms are preferred to determine the underlying probability distribution of a data. Box plots on the other hand are more useful when comparing between several data sets.\n",
        "\n",
        "3. The average and median -  The average is calculated by adding up all of the individual values and dividing this total by the number of observations. The median is calculated by taking the “middle” value, the value for which half of the observations are larger and half are smaller. \n",
        "\n"
      ],
      "metadata": {
        "id": "jc26sjAM5wk6"
      }
    }
  ]
}
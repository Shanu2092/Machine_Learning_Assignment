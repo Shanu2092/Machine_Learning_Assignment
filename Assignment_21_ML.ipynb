{
  "nbformat": 4,
  "nbformat_minor": 0,
  "metadata": {
    "colab": {
      "name": "Assignment_21_ML",
      "provenance": [],
      "collapsed_sections": [],
      "authorship_tag": "ABX9TyMiw0LH8Th8mCgnEhMpZIUC",
      "include_colab_link": true
    },
    "kernelspec": {
      "name": "python3",
      "display_name": "Python 3"
    },
    "language_info": {
      "name": "python"
    }
  },
  "cells": [
    {
      "cell_type": "markdown",
      "metadata": {
        "id": "view-in-github",
        "colab_type": "text"
      },
      "source": [
        "<a href=\"https://colab.research.google.com/github/Shanu2092/Machine_Learning_Assignment/blob/main/Assignment_21_ML.ipynb\" target=\"_parent\"><img src=\"https://colab.research.google.com/assets/colab-badge.svg\" alt=\"Open In Colab\"/></a>"
      ]
    },
    {
      "cell_type": "markdown",
      "source": [
        "1. What is the estimated depth of a Decision Tree trained (unrestricted) on a one million instance training set?\n",
        "\n",
        "The depth of the decision tree is calcuated by the logarithm of m(i.e. no of leaves) raised to the power 2 with base 2.hence,the estimated depth of a Decision Tree trained (unrestricted) on a one million instance training set will be 20"
      ],
      "metadata": {
        "id": "7IpK8hXkLJil"
      }
    },
    {
      "cell_type": "markdown",
      "source": [
        "2. Is the Gini impurity of a node usually lower or higher than that of its parent? Is it always lower/greater, or is it usually lower/greater?\n",
        "\n",
        "The gini impurity is usually lower than that of the parent "
      ],
      "metadata": {
        "id": "fgT3xy3Fwfs1"
      }
    },
    {
      "cell_type": "markdown",
      "source": [
        "3. Explain if its a good idea to reduce max depth if a Decision Tree is overfitting the training set?\n",
        "\n",
        "reducing the depth of the Ddecision Tree contraits the model,hence it is a good idea to reduce overfitting"
      ],
      "metadata": {
        "id": "lKFt1cHkxTF8"
      }
    },
    {
      "cell_type": "markdown",
      "source": [
        "4. Explain if its a  good idea to try scaling the input features if a Decision Tree underfits the training set?\n",
        "\n",
        "Decision trees dont need any kind of data transformation"
      ],
      "metadata": {
        "id": "1fQSN3MsxpwE"
      }
    },
    {
      "cell_type": "markdown",
      "source": [
        "5. How much time will it take to train another Decision Tree on a training set of 10 million instances if it takes an hour to train a Decision Tree on a training set with 1 million instances?\n",
        "\n",
        "The computational capacity of training a decision tree is k =  O(n x mlog(m)). Putting m = 10,we get,k  = 11.7 hours(approx)"
      ],
      "metadata": {
        "id": "SkIgaRz3y5Sc"
      }
    },
    {
      "cell_type": "markdown",
      "source": [
        "6. Will setting presort=True speed up training if your training set has 100,000 instances?\n",
        "\n",
        "Presort = True works only when the dataset has only few thousand instances"
      ],
      "metadata": {
        "id": "bWbkYe6i1mt0"
      }
    },
    {
      "cell_type": "markdown",
      "source": [
        "\n",
        "\n",
        "7. Follow these steps to train and fine-tune a Decision Tree for the moons dataset:\n",
        "\n",
        "a. To build a moons dataset, use make moons(n samples=10000, noise=0.4).\n",
        "\n",
        "b. Divide the dataset into a training and a test collection with train test split().\n",
        "\n",
        "c. To find good hyperparameters values for a DecisionTreeClassifier, use grid search with cross-validation (with the GridSearchCV class). Try different values for max leaf nodes.\n",
        "\n",
        "d. Use these hyperparameters to train the model on the entire training set, and then assess its output on the test set. You can achieve an accuracy of 85 to 87 percent.\n"
      ],
      "metadata": {
        "id": "6O9BvrQl9peY"
      }
    },
    {
      "cell_type": "code",
      "source": [
        "from sklearn.datasets import make_moons\n",
        "X,y = make_moons(n_samples=10000, noise=0.4,random_state = 42)"
      ],
      "metadata": {
        "id": "4DIx6sGx90UP"
      },
      "execution_count": 1,
      "outputs": []
    },
    {
      "cell_type": "code",
      "source": [
        "from sklearn.model_selection import train_test_split\n",
        "X_train,X_test,y_train,y_test = train_test_split(X,y,random_state = 42, test_size = 0.2)"
      ],
      "metadata": {
        "id": "sgTmevrQ-Hai"
      },
      "execution_count": 2,
      "outputs": []
    },
    {
      "cell_type": "code",
      "source": [
        "from sklearn.model_selection import GridSearchCV\n",
        "from sklearn import tree\n",
        "from sklearn.tree import DecisionTreeClassifier\n",
        "\n",
        "\n",
        "params = {'max_leaf_nodes': list(range(2, 100)), 'min_samples_split': [2, 3, 4]}\n",
        "grid_search_cv = GridSearchCV(DecisionTreeClassifier(random_state=42), params, verbose=1, cv=3)\n",
        "\n",
        "grid_search_cv.fit(X_train, y_train)"
      ],
      "metadata": {
        "colab": {
          "base_uri": "https://localhost:8080/"
        },
        "id": "JrvtoFXM_xBq",
        "outputId": "7d49e650-24c9-4850-a09b-7e529ff0ae6d"
      },
      "execution_count": 3,
      "outputs": [
        {
          "output_type": "stream",
          "name": "stdout",
          "text": [
            "Fitting 3 folds for each of 294 candidates, totalling 882 fits\n"
          ]
        },
        {
          "output_type": "execute_result",
          "data": {
            "text/plain": [
              "GridSearchCV(cv=3, estimator=DecisionTreeClassifier(random_state=42),\n",
              "             param_grid={'max_leaf_nodes': [2, 3, 4, 5, 6, 7, 8, 9, 10, 11, 12,\n",
              "                                            13, 14, 15, 16, 17, 18, 19, 20, 21,\n",
              "                                            22, 23, 24, 25, 26, 27, 28, 29, 30,\n",
              "                                            31, ...],\n",
              "                         'min_samples_split': [2, 3, 4]},\n",
              "             verbose=1)"
            ]
          },
          "metadata": {},
          "execution_count": 3
        }
      ]
    },
    {
      "cell_type": "code",
      "source": [
        "grid_search_cv.best_estimator_"
      ],
      "metadata": {
        "colab": {
          "base_uri": "https://localhost:8080/"
        },
        "id": "IAA6NMuLBg6J",
        "outputId": "b7b81295-d556-4155-b9dd-7b5fac8f418a"
      },
      "execution_count": 4,
      "outputs": [
        {
          "output_type": "execute_result",
          "data": {
            "text/plain": [
              "DecisionTreeClassifier(max_leaf_nodes=17, random_state=42)"
            ]
          },
          "metadata": {},
          "execution_count": 4
        }
      ]
    },
    {
      "cell_type": "code",
      "source": [
        "from sklearn.metrics import accuracy_score\n",
        "\n",
        "y_pred = grid_search_cv.predict(X_test)\n",
        "accuracy_score(y_test, y_pred)"
      ],
      "metadata": {
        "colab": {
          "base_uri": "https://localhost:8080/"
        },
        "id": "0J4XRvq-BoQU",
        "outputId": "e9f24220-1912-4394-b021-a57267c24d0a"
      },
      "execution_count": 5,
      "outputs": [
        {
          "output_type": "execute_result",
          "data": {
            "text/plain": [
              "0.8695"
            ]
          },
          "metadata": {},
          "execution_count": 5
        }
      ]
    },
    {
      "cell_type": "markdown",
      "source": [
        "8. Follow these steps to grow a forest:\n",
        "\n",
        "         a. Using the same method as before, create 1,000 subsets of the training set, each containing 100 instances chosen at random. You can do this with Scikit-ShuffleSplit Learn's class.\n",
        "\n",
        "\n",
        "          b. Using the best hyperparameter values found in the previous exercise, train one Decision Tree on each subset. On the test collection, evaluate these 1,000 Decision Trees. These Decision        Trees would likely perform worse than the first Decision Tree, achieving only around 80% accuracy, since they were trained on smaller sets.\n",
        "\n",
        "\n",
        "\n",
        "         c. Now the magic begins. Create 1,000 Decision Tree predictions for each test set case, and keep only the most common prediction (you can do this with SciPy's mode() function). Over the test collection, this method gives you majority-vote predictions.\n",
        "\n",
        "\n",
        "\n",
        "         d. On the test range, evaluate these predictions: you should achieve a slightly higher accuracy than the first model (approx 0.5 to 1.5 percent higher). You've successfully learned a Random Forest classifier!\n"
      ],
      "metadata": {
        "id": "rBBWDVvKCBvW"
      }
    },
    {
      "cell_type": "code",
      "source": [
        "from sklearn.model_selection import ShuffleSplit\n",
        "\n",
        "n_trees = 1000\n",
        "n_instances = 100\n",
        "\n",
        "mini_sets = []\n",
        "\n",
        "rs = ShuffleSplit(n_splits=n_trees, test_size=len(X_train) - n_instances, random_state=42)\n",
        "for mini_train_index, mini_test_index in rs.split(X_train):\n",
        "    X_mini_train = X_train[mini_train_index]\n",
        "    y_mini_train = y_train[mini_train_index]\n",
        "    mini_sets.append((X_mini_train, y_mini_train))"
      ],
      "metadata": {
        "id": "QfKsQnM7B7lL"
      },
      "execution_count": 6,
      "outputs": []
    },
    {
      "cell_type": "code",
      "source": [
        "import numpy as np"
      ],
      "metadata": {
        "id": "vqQxzJVnUIkJ"
      },
      "execution_count": 8,
      "outputs": []
    },
    {
      "cell_type": "code",
      "source": [
        "from sklearn.base import clone\n",
        "\n",
        "forest = [clone(grid_search_cv.best_estimator_) for _ in range(n_trees)]\n",
        "\n",
        "accuracy_scores = []\n",
        "\n",
        "for tree, (X_mini_train, y_mini_train) in zip(forest, mini_sets):\n",
        "    tree.fit(X_mini_train, y_mini_train)\n",
        "    \n",
        "    y_pred = tree.predict(X_test)\n",
        "    accuracy_scores.append(accuracy_score(y_test, y_pred))\n",
        "\n",
        "np.mean(accuracy_scores)"
      ],
      "metadata": {
        "colab": {
          "base_uri": "https://localhost:8080/"
        },
        "id": "nmGeq3lWEdX6",
        "outputId": "508ee05a-e33b-461f-fd6c-10ca33ca1749"
      },
      "execution_count": 9,
      "outputs": [
        {
          "output_type": "execute_result",
          "data": {
            "text/plain": [
              "0.8054499999999999"
            ]
          },
          "metadata": {},
          "execution_count": 9
        }
      ]
    },
    {
      "cell_type": "code",
      "source": [
        "Y_pred = np.empty([n_trees, len(X_test)], dtype=np.uint8)\n",
        "\n",
        "for tree_index, tree in enumerate(forest):\n",
        "    Y_pred[tree_index] = tree.predict(X_test)"
      ],
      "metadata": {
        "id": "8DBY11c1UEPG"
      },
      "execution_count": 10,
      "outputs": []
    },
    {
      "cell_type": "code",
      "source": [
        "from scipy.stats import mode\n",
        "\n",
        "y_pred_majority_votes, n_votes = mode(Y_pred, axis=0)"
      ],
      "metadata": {
        "id": "ff9twKAgUnva"
      },
      "execution_count": 11,
      "outputs": []
    },
    {
      "cell_type": "code",
      "source": [
        "accuracy_score(y_test, y_pred_majority_votes.reshape([-1]))"
      ],
      "metadata": {
        "colab": {
          "base_uri": "https://localhost:8080/"
        },
        "id": "RzTh_O8hUoqk",
        "outputId": "bc5b699b-2596-4360-8efa-3bcd86e982e2"
      },
      "execution_count": 12,
      "outputs": [
        {
          "output_type": "execute_result",
          "data": {
            "text/plain": [
              "0.872"
            ]
          },
          "metadata": {},
          "execution_count": 12
        }
      ]
    }
  ]
}
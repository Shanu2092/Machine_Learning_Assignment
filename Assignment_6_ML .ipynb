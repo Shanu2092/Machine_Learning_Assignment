{
 "cells": [
  {
   "cell_type": "markdown",
   "id": "ba152462",
   "metadata": {},
   "source": [
    "## 1. In the sense of machine learning, what is a model? What is the best way to train a model?\n",
    "\n",
    "\n",
    "        A machine learning model is a scientific predictive tool made up of several libraries and mathematical equations which learns from data and recognises patterns without being explicitly programmed.\n",
    "    \n",
    "        The best way to train a model is to feed the model an existing dataset,do several operations on it and clean it and then ,train it and do predictions on them.\n"
   ]
  },
  {
   "cell_type": "markdown",
   "id": "09a78d9e",
   "metadata": {},
   "source": [
    "## 2. In the sense of machine learning, explain the \"No Free Lunch\" theorem.\n",
    "\n",
    "        According to David Wolpert,who gave this theorem,if you make no assumptions about the data,there is no reason to prefer one model or the other."
   ]
  },
  {
   "cell_type": "markdown",
   "id": "0e0da996",
   "metadata": {},
   "source": [
    "## 3. Describe the K-fold cross-validation mechanism in detail.\n",
    "        \n",
    "        Scikit-Learn's K-fold cross-validation feature randomly splits the traning set into n(let's say) distinct subsets called folds,then it trains and evaluates the Decision Tree model n times,picking a different fold for evaluation every time and training on the other n-1 folds .The result is an array containing the n evaluation scores.\n",
    "        "
   ]
  },
  {
   "cell_type": "markdown",
   "id": "d5918ee5",
   "metadata": {},
   "source": [
    "## 4. Describe the bootstrap sampling method. What is the aim of it?\n",
    "\n",
    "        The bootstrap method is a resampling technique used to estimate statistics on a population by sampling a dataset with replacement.\n",
    "        "
   ]
  },
  {
   "cell_type": "markdown",
   "id": "9f0e1a86",
   "metadata": {},
   "source": [
    "## 5. What is the significance of calculating the Kappa value for a classification model? Demonstrate how to measure the Kappa value of a classification model using a sample collection of results.\n",
    "\n",
    "        kappa value tells you how much better your classifier is performing over the performance of a classifier that simply guesses at random according to the frequency of each class. Cohen's kappa is always less than or equal to 1. Values of 0 or less, indicate that the classifier is useless.       "
   ]
  },
  {
   "cell_type": "markdown",
   "id": "6a529a32",
   "metadata": {},
   "source": [
    "## 6. Describe the model ensemble method. In machine learning, what part does it play?\n",
    "\n",
    "         A group of predeictors is called an ensemble;thus,this technique is called Ensemble Learning,and an Ensemble Learning algorithm is called an Ensemble method.\n",
    "         \n",
    "         In Machine Learning,a group of Decision Tree classifiers can be trained useing ensemble technique,each on a different subset if training set\n",
    "         \n",
    "         "
   ]
  },
  {
   "cell_type": "markdown",
   "id": "8f9d9201",
   "metadata": {},
   "source": [
    "## 7. What is a descriptive model's main purpose? Give examples of real-world problems that descriptive models were used to solve.\n",
    "        \n",
    "        The goal of descriptive analysis is to find an accurate understanding of the problem by asking questions from historical data. This means that our machine learning model is based on periodicity. So, descriptive analysis helps us understand the deep patterns from the data to uncover all those special features that were overlooked at the initial stage.       "
   ]
  },
  {
   "cell_type": "markdown",
   "id": "47808067",
   "metadata": {},
   "source": [
    "## 8. Describe how to evaluate a linear regression model.\n",
    "\n",
    "        a. R Square/Adjusted R Square.\n",
    "        b. Mean Square Error(MSE)/Root Mean Square Error(RMSE)\n",
    "        c. Mean Absolute Error(MAE)\n",
    "\n",
    "        "
   ]
  },
  {
   "cell_type": "markdown",
   "id": "027be400",
   "metadata": {},
   "source": [
    "## 9. Distinguish :\n",
    "\n",
    "1. Descriptive vs. predictive models \n",
    "\n",
    "        Descriptive models : Descriptive models will help an organization to know what has happened in the past, it would give you the past analytics using the data that are stored.\n",
    "        \n",
    "        Predictive models : Predictive models will help an organization to know what might happen next, it predicts future based on present data available\n",
    "\n",
    "2. Underfitting vs. overfitting the model \n",
    "        \n",
    "        A model that is underfit will have high training and high testing error while an overfit model will have extremely low training error but a high testing error.\n",
    "\n",
    "3. Bootstrapping vs. cross-validation\n",
    "        \n",
    "        Cross validation splits the available dataset to create multiple datasets, and Bootstrapping method uses the original dataset to create multiple datasets after resampling with replacement.\n",
    "        \n"
   ]
  },
  {
   "cell_type": "markdown",
   "id": "4e5f12f5",
   "metadata": {},
   "source": [
    "## 10. Make quick notes on:\n",
    "\n",
    "            1. LOOCV : In LOOCV,we set hte number of folds equals to the number of training examples(k=n) ,so that only oe training example is used for testing during each iteration.\n",
    "                        \n",
    "            2. F-measurement : F-score or F-measure is a measure of a test's accuracy. It is calculated from the precision and recall of the test, where the precision is the number of true positive results divided by the number of all positive results\n",
    "\n",
    "            3. The width of the silhouette : The silhouette value is a measure of how similar an object is to its own cluster (cohesion) compared to other clusters (separation)\n",
    "\n",
    "            4. Receiver operating characteristic curve : The ROC curve plots the true positive rate (another name for recall) against the false positive rate\n"
   ]
  }
 ],
 "metadata": {
  "kernelspec": {
   "display_name": "Python 3 (ipykernel)",
   "language": "python",
   "name": "python3"
  },
  "language_info": {
   "codemirror_mode": {
    "name": "ipython",
    "version": 3
   },
   "file_extension": ".py",
   "mimetype": "text/x-python",
   "name": "python",
   "nbconvert_exporter": "python",
   "pygments_lexer": "ipython3",
   "version": "3.9.7"
  }
 },
 "nbformat": 4,
 "nbformat_minor": 5
}
